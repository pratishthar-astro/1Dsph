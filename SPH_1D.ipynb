{
 "cells": [
  {
   "cell_type": "code",
   "execution_count": 7,
   "id": "150e44fd-3936-4956-bdc3-b11f92d243d1",
   "metadata": {},
   "outputs": [],
   "source": [
    "#All relevant imports go here\n",
    "import numpy as np"
   ]
  },
  {
   "cell_type": "code",
   "execution_count": 8,
   "id": "34d9ff21-2fe7-4713-aaa2-05fac9c7eff6",
   "metadata": {},
   "outputs": [],
   "source": [
    "# Step 1: Defining arrays capable of storing position, velocity, mass, smoothing length, internal energy (u), pressure\n",
    "\n",
    "class SPHParticles:\n",
    "    def __init__(self, n):\n",
    "        self.n = n\n",
    "        self.position = np.zeros(n)\n",
    "        self.velocity = np.zeros(n)\n",
    "        self.mass = np.zeros(n)\n",
    "        self.smoothing_length = np.zeros(n)\n",
    "        self.internal_energy = np.zeros(n)\n",
    "        self.pressure = np.zeros(n)\n",
    "\n",
    "    def setup(self, xmin, xmax, rho_0):\n",
    "        # Step 2: Setting up 1D array of n particles\n",
    "        self.position = np.linspace(xmin, xmax, self.n)\n",
    "        \n",
    "        # Assigning mass to each particle based on initial density\n",
    "        particle_spacing = (xmax - xmin) / (self.n - 1)\n",
    "        self.mass = rho_0 * particle_spacing * np.ones(self.n)\n",
    "        \n",
    "        # Setting velocity to a sine wave in the x direction\n",
    "        sound_speed = 1.0  # Adjust as needed\n",
    "        amplitude = 1e-4 * sound_speed\n",
    "        self.velocity = amplitude * np.sin(2 * np.pi * self.position / (xmax - xmin))\n",
    "        \n",
    "        # Setting smoothing length initially to 1.2 times the particle spacing\n",
    "        self.smoothing_length = 1.2 * particle_spacing\n",
    "\n",
    "        # Printing the setup information\n",
    "        print(\"Setup Information:\")\n",
    "        print(\"Number of particles:\", self.n)\n",
    "        print(\"Particle spacing:\", particle_spacing)\n",
    "        print(\"Initial density (rho_0):\", rho_0)\n",
    "        print(\"Sound speed:\", sound_speed)\n",
    "        print(\"Amplitude of sine wave velocity:\", amplitude)\n",
    "\n",
    "    #Step 3: writing an output file\n",
    "    def output(self, filename):\n",
    "        data = np.column_stack((self.position, self.velocity, self.mass, self.smoothing_length, self.internal_energy, self.pressure))\n",
    "        np.savetxt(filename, data, header=\"Position Velocity Mass Smoothing_Length Internal_Energy Pressure\", comments='')"
   ]
  },
  {
   "cell_type": "code",
   "execution_count": 10,
   "id": "e5ca76be-bf80-441e-9de2-d560522e35f3",
   "metadata": {},
   "outputs": [
    {
     "name": "stdout",
     "output_type": "stream",
     "text": [
      "Setup Information:\n",
      "Number of particles: 100\n",
      "Particle spacing: 0.010101010101010102\n",
      "Initial density (rho_0): 1.0\n",
      "Sound speed: 1.0\n",
      "Amplitude of sine wave velocity: 0.0001\n"
     ]
    }
   ],
   "source": [
    "# Step 2: Calling the setup routine\n",
    "\n",
    "\n",
    "n_particles = 100\n",
    "particles = SPHParticles(n_particles)\n",
    "\n",
    "xmin_value = 1.0\n",
    "xmax_value = 2.0\n",
    "rho_0_value = 1.0\n",
    "\n",
    "particles.setup(xmin_value, xmax_value, rho_0_value)"
   ]
  },
  {
   "cell_type": "code",
   "execution_count": null,
   "id": "1fc83ecf-f2e4-4452-99ad-810216470609",
   "metadata": {},
   "outputs": [],
   "source": []
  },
  {
   "cell_type": "code",
   "execution_count": null,
   "id": "4d4dd0ee-20cc-42d2-a664-6fc1a6895a96",
   "metadata": {},
   "outputs": [],
   "source": []
  }
 ],
 "metadata": {
  "kernelspec": {
   "display_name": "Python 3 (ipykernel)",
   "language": "python",
   "name": "python3"
  },
  "language_info": {
   "codemirror_mode": {
    "name": "ipython",
    "version": 3
   },
   "file_extension": ".py",
   "mimetype": "text/x-python",
   "name": "python",
   "nbconvert_exporter": "python",
   "pygments_lexer": "ipython3",
   "version": "3.9.6"
  }
 },
 "nbformat": 4,
 "nbformat_minor": 5
}
